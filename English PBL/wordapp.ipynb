{
 "cells": [
  {
   "cell_type": "code",
   "execution_count": null,
   "metadata": {},
   "outputs": [],
   "source": [
    "pip install tk \n"
   ]
  },
  {
   "cell_type": "code",
   "execution_count": 1,
   "metadata": {},
   "outputs": [],
   "source": [
    "import csv\n",
    "import random\n",
    "import tkinter as tk\n",
    "\n",
    "def display_random_word():\n",
    "    with open('words.csv', newline='') as csvfile:\n",
    "        reader = csv.reader(csvfile)\n",
    "        data = list(reader)\n",
    "        word_data = random.choice(data)\n",
    "        word = word_data[0]\n",
    "        synonyms = word_data[1]\n",
    "        antonyms = word_data[2]\n",
    "        usage = word_data[3]\n",
    "        word_label.config(text=f\"Word: {word}\")\n",
    "        synonyms_label.config(text=f\"Synonyms: {synonyms}\")\n",
    "        antonyms_label.config(text=f\"Antonyms: {antonyms}\")\n",
    "        usage_label.config(text=f\"Usage: {usage}\")\n",
    "\n",
    "root = tk.Tk()\n",
    "root.title(\"Random Word Display\")\n",
    "\n",
    "word_label = tk.Label(root, text=\"\")\n",
    "synonyms_label = tk.Label(root, text=\"\")\n",
    "antonyms_label = tk.Label(root, text=\"\")\n",
    "usage_label = tk.Label(root, text=\"\")\n",
    "\n",
    "word_label.pack()\n",
    "synonyms_label.pack()\n",
    "antonyms_label.pack()\n",
    "usage_label.pack()\n",
    "\n",
    "display_button = tk.Button(root, text=\"Display Random Word\", command=display_random_word)\n",
    "display_button.pack()\n",
    "\n",
    "root.mainloop()\n"
   ]
  }
 ],
 "metadata": {
  "kernelspec": {
   "display_name": "Python 3",
   "language": "python",
   "name": "python3"
  },
  "language_info": {
   "codemirror_mode": {
    "name": "ipython",
    "version": 3
   },
   "file_extension": ".py",
   "mimetype": "text/x-python",
   "name": "python",
   "nbconvert_exporter": "python",
   "pygments_lexer": "ipython3",
   "version": "3.12.0"
  }
 },
 "nbformat": 4,
 "nbformat_minor": 2
}
